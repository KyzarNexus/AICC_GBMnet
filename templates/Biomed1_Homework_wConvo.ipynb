{
 "cells": [
  {
   "cell_type": "code",
   "execution_count": 1,
   "metadata": {
    "colab": {
     "base_uri": "https://localhost:8080/"
    },
    "id": "-HfEJTXfyfjI",
    "outputId": "3619bed4-4c08-41d9-d616-aa87f4589b6d"
   },
   "outputs": [
    {
     "name": "stdout",
     "output_type": "stream",
     "text": [
      "Requirement already satisfied: mnist in c:\\users\\kyzar\\anaconda3\\envs\\aicc\\lib\\site-packages (0.2.2)\n",
      "Requirement already satisfied: numpy in c:\\users\\kyzar\\anaconda3\\envs\\aicc\\lib\\site-packages (from mnist) (1.24.3)\n",
      "Note: you may need to restart the kernel to use updated packages.\n",
      "(60000, 28, 28)\n",
      "(10000, 28, 28)\n",
      "(60000,)\n",
      "(10000,)\n"
     ]
    }
   ],
   "source": [
    "#Hello everyone!  Welcome to the biomedical imaging team 1 homework introduction to python and programming neural networks!\n",
    "#I'll walk you through an example using the mnist dataset.\n",
    "#First, we need to install mnist as it is not included in Google Colab by default.\n",
    "#The \"!\" at the start of this line instructs Colab to execute a shell command.\n",
    "%pip install mnist\n",
    "#Now, mnist should be downloaded and installed as a python package.  \n",
    "#Python has a variety of packages that add reusable functionality of many kinds.\n",
    "\n",
    "#Now we need to import the \"mnist\" package.\n",
    "from keras.datasets import mnist\n",
    "\n",
    "\n",
    "\n",
    "(train_images, train_labels), (test_images, test_labels) = mnist.load_data()\n",
    "#These are calls to the python \"print\" function which display text to the screen.\n",
    "#Also make note of the python \".\" operator which is used to reference items inside objects, such as packages.\n",
    "#The function \"mnist.train_images\" returns a Numpy array with the data.\n",
    "#Numpy arrays can have multiple dimensions.  Their size on each axis is described by the \"shape\" attribute.\n",
    "#Let's look at the shapes of the images and labels.\n",
    "# print(mnist.train_images().shape)\n",
    "# print(mnist.test_images().shape)\n",
    "# print(mnist.train_labels().shape)\n",
    "# print(mnist.test_labels().shape)\n",
    "print(train_images.shape)\n",
    "print(test_images.shape)\n",
    "print(train_labels.shape)\n",
    "print(test_labels.shape)\n"
   ]
  },
  {
   "cell_type": "markdown",
   "metadata": {
    "id": "zQad8mdvXH0G"
   },
   "source": [
    "Based on the returned information, how many images are present?  What is the size of each image?  How are these images labeled?"
   ]
  },
  {
   "cell_type": "code",
   "execution_count": 2,
   "metadata": {
    "colab": {
     "base_uri": "https://localhost:8080/",
     "height": 448
    },
    "id": "VzyRtGYnzv2_",
    "outputId": "ce0f8aed-de50-4a10-9f13-6d6554e7d647"
   },
   "outputs": [
    {
     "data": {
      "text/plain": [
       "<matplotlib.image.AxesImage at 0x1861e45d390>"
      ]
     },
     "execution_count": 2,
     "metadata": {},
     "output_type": "execute_result"
    },
    {
     "data": {
      "image/png": "[encoded data removed]",
      "text/plain": [
       "<Figure size 640x480 with 1 Axes>"
      ]
     },
     "metadata": {},
     "output_type": "display_data"
    }
   ],
   "source": [
    "#Like we discussed in the last meeting, data is the more involved and difficult part of data science.\n",
    "#Let's make sure we examine our data before we start training.\n",
    "\n",
    "#This line isn't python.  It's a special instruction to the Jupyter notebook to allow us to use matplotlib to make figures in the notebook.\n",
    "%matplotlib inline\n",
    "\n",
    "#We also need to import some more python packages.  Notice the use of \"from\" here.\n",
    "from matplotlib import pyplot\n",
    "import numpy\n",
    "\n",
    "#We want to select an image to plot at random.  To do this, we need to generate a random number using Numpy.\n",
    "#Here, we use python's \"range\" function to make a list of numbers from 0 to NUMBER_OF_IMAGES.\n",
    "#PLEASE replace NUMBER_OF_IMAGES with the actual number of images in the training portion of the dataset.\n",
    "#\"range\" returns an \"iterator\" object.  We need this to be a \"list\" object, so we make it one.\n",
    "indexes = list(range(60000))\n",
    "i = numpy.random.choice(indexes)\n",
    "\n",
    "#Now we will \"imshow\" the i'th image of the train_images.\n",
    "pyplot.imshow(train_images[i])"
   ]
  },
  {
   "cell_type": "code",
   "execution_count": 3,
   "metadata": {
    "colab": {
     "base_uri": "https://localhost:8080/"
    },
    "id": "prHA9J5HZNhp",
    "outputId": "4da0045d-bda9-42b1-bef3-cb6e257461c8"
   },
   "outputs": [
    {
     "name": "stdout",
     "output_type": "stream",
     "text": [
      "[5 0 4 1 9 2 1 3 1 4]\n"
     ]
    }
   ],
   "source": [
    "#Did you see how the images were labeled?  This is important!\n",
    "#Let's have a look at the first 10 labels.\n",
    "#We can do this using python slices, \"array[start:stop]\".\n",
    "# train_labels = mnist.train_labels()\n",
    "print(train_labels[0:10])\n",
    "#Notice two things.  First, slicing produced a small, \"slice\" of the array.\n",
    "#Second.  The images are labeled by the number represented.\n",
    "#This is actually not good for neural networks.\n",
    "#We want to classify each image according to the written number, but the current labels imply a numerical relationship.\n",
    "#We don't usually want o imply a > or < relationship during a classification problem.\n",
    "#To fix this and help our neural network perform better, we will change this to one-hot-encoding."
   ]
  },
  {
   "cell_type": "code",
   "execution_count": 4,
   "metadata": {
    "id": "Ds0oYE3EbRtf"
   },
   "outputs": [],
   "source": [
    "#One-hot-encoding will represent 5 as 0000010000.\n",
    "# 3 = 0001000000\n",
    "# 9 = 0000000001\n",
    "\n",
    "#Let's make a python function for one-hot-encoding the digits.\n",
    "\n",
    "def one_hot(label):\n",
    "  new_label = numpy.zeros(10)\n",
    "  new_label[label] = 1\n",
    "  return new_label\n",
    "\n",
    "#Python cares about whitespace!\n",
    "#Python separates the inside of functions, loops, if statements, etc by their indentation level.\n",
    "#If your indentation is off, python will complain!\n",
    "#This unique syntax helps python be more readable.\n",
    "\n",
    "#Try using this function with a few digits to make sure the function works like we want it to."
   ]
  },
  {
   "cell_type": "code",
   "execution_count": 5,
   "metadata": {
    "id": "jfGoKEKgccd2"
   },
   "outputs": [],
   "source": [
    "# We need another function to give one-hot-encodings to all the labels in a list of labels.\n",
    "def one_hot_array(labels):\n",
    "  #Let's make an empty list to store our results.\n",
    "  new_labels = []\n",
    "  \n",
    "  #We'll use a \"for\" loop to look at each label in the list.\n",
    "  for label in labels:\n",
    "    new_labels.append(one_hot(label))\n",
    "\n",
    "  #Before we're done, we need to turn the list into a numpy array.  We almost always use numpy arrays with neural networks.\n",
    "  return numpy.asarray(new_labels)"
   ]
  },
  {
   "cell_type": "markdown",
   "metadata": {
    "id": "7tR5tYcehIy0"
   },
   "source": [
    "Each of the trainable parameters in this model represents a weight or bias for one of it's artificial neurons.  When we train the neural network, we adjust the weights until the neural network learns to give correct answers.\n",
    "\n",
    "How many trainable parameters are in this model?\n",
    "How many non-trainable?"
   ]
  },
  {
   "cell_type": "markdown",
   "metadata": {
    "id": "3iYJODsFpqeT"
   },
   "source": [
    "There are some problems with this model.  Neural networks with this structure are called multi-layer perceptrons (MLPs).  MLPs are very sensitive to exactly where things are in the image.  For instance, moving a cat slightly to the left might confuse the network into thinking it is no longer a cat.  Also, these networks have a very large number of trainable parameters.\n",
    "\n",
    "We can solve these problems with a convolutional neural network (CNN).  CNNs look for patterns whereever they appear in the image.  In this way, they are no longer sensitive to position.  They also \"reuse\" pattern-finding neurons by using them in small patches that slide across the entire image.  CNNs are the innovation that allowed computer vision to take off the way it has.\n",
    "\n",
    "Look at this YouTube video to see how a CNN reuses neurons.  https://www.youtube.com/watch?v=KTB_OFoAQcc"
   ]
  },
  {
   "cell_type": "code",
   "execution_count": 6,
   "metadata": {
    "id": "FbNMndKUpoZB"
   },
   "outputs": [
    {
     "ename": "",
     "evalue": "",
     "output_type": "error",
     "traceback": [
      "\u001b[1;31mCanceled future for execute_request message before replies were done"
     ]
    },
    {
     "ename": "",
     "evalue": "",
     "output_type": "error",
     "traceback": [
      "\u001b[1;31mThe Kernel crashed while executing code in the the current cell or a previous cell. Please review the code in the cell(s) to identify a possible cause of the failure. Click <a href='https://aka.ms/vscodeJupyterKernelCrash'>here</a> for more info. View Jupyter <a href='command:jupyter.viewOutput'>log</a> for further details."
     ]
    }
   ],
   "source": [
    "#Now, let's finally build a computer vision neural network!\n",
    "#We'll use the \"keras\" package for this.\n",
    "#We need a few things \"from\" keras.\n",
    "from keras import Model\n",
    "from keras.layers import Dense, Input, Flatten\n",
    "#A convolutional neural network is just a network that has one or more Convolutional layers in it.\n",
    "from keras.layers import Conv2D\n",
    "#It also typically includes pooling layers that reduce the size of an image.\n",
    "from keras.layers import MaxPooling2D\n",
    "\n",
    "#Let's make a network like the one we saw above.\n",
    "#Note that our input shape has changed slightly.\n",
    "image = Input(shape=(28, 28, 1))\n",
    "\n",
    "#yow, let's make our first convolution layer followed by our first pooling layer.\n",
    "#This network will 16 neurons (convolution filters).\n",
    "#Each filter will be 3x3.\n",
    "#We'll use a 'relu' activation and 'same' padding.\n",
    "conv1 = Conv2D(16, (3, 3), activation='relu', padding='same')\n",
    "conv1 = conv1(image)\n",
    "\n",
    "#Next, pooling.\n",
    "#The default pool size is 2x2 and shrinks the image by half on each dimension.\n",
    "pool1 = MaxPooling2D()\n",
    "pool1 = pool1(conv1)\n",
    "\n",
    "#Now you create the second convolution and second pooling layers.\n",
    "conv2 = Conv2D(16, (3, 3), activation='relu', padding='same')(pool1)\n",
    "pool2 = MaxPooling2D()(conv2)\n",
    "\n",
    "#Now we have a nice feature map.\n",
    "#Next we flatten the data.  This is when our data will stop being an image and start being an array.\n",
    "#You can think of this as when the neural network stops \"seeing\" and starts \"thinking about what it saw.\"\n",
    "flat = Flatten()\n",
    "flat = flat(pool2)\n",
    "\n",
    "#Adding Dense layers will let us think about what we saw and answer the questions we care about.\n",
    "dense1 = Dense(100, activation='relu')\n",
    "dense1 = dense1(flat)\n",
    "\n",
    "#Please make the final classifier layer here:\n",
    "dense2 = Dense(10, activation='softmax')(dense1)\n",
    "\n",
    "model = Model(image, dense2)"
   ]
  },
  {
   "cell_type": "code",
   "execution_count": null,
   "metadata": {
    "colab": {
     "base_uri": "https://localhost:8080/"
    },
    "id": "h77Y94bouxBr",
    "outputId": "ed03a555-99d8-41ae-95e8-7c50f1141371"
   },
   "outputs": [],
   "source": [
    "#Go ahead and look at the model's summary and produce a plot of the model.\n",
    "model.summary()\n",
    "#How does the number of parameters compare between the CNN and the MLP?"
   ]
  },
  {
   "cell_type": "code",
   "execution_count": null,
   "metadata": {
    "id": "jxrTXF_Ku2ga"
   },
   "outputs": [],
   "source": [
    "#CNNs compile the same as other neural networks.\n",
    "model.compile(loss='categorical_crossentropy', optimizer='adam', metrics=['accuracy'])"
   ]
  },
  {
   "cell_type": "code",
   "execution_count": null,
   "metadata": {
    "colab": {
     "base_uri": "https://localhost:8080/"
    },
    "id": "LHz3oKczvJJp",
    "outputId": "a6f1956e-61c6-48b8-ef1e-24c4628c0d76"
   },
   "outputs": [],
   "source": [
    "#Now let's train the model.\n",
    "#Remember, our input shape is a bit different.\n",
    "#CNNs requrie the shape to be (28, 28, 1) instead of (28, 28).\n",
    "#We use numpy.expand_dims to add the extra \"1\".\n",
    "model.fit(numpy.expand_dims(train_images, axis=-1), one_hot_array(train_labels))"
   ]
  },
  {
   "cell_type": "code",
   "execution_count": null,
   "metadata": {
    "colab": {
     "base_uri": "https://localhost:8080/"
    },
    "id": "PmRkvCDwwOKy",
    "outputId": "98ffed5a-e6f0-4f84-bb29-34bfdc7ec7fa"
   },
   "outputs": [],
   "source": [
    "#Let's see how the model performed.\n",
    "model.evaluate(numpy.expand_dims(mnist.test_images(), axis=-1), one_hot_array(mnist.test_labels()))\n",
    "#How did the CNN's performance compare to the MLP's?"
   ]
  },
  {
   "cell_type": "code",
   "execution_count": null,
   "metadata": {},
   "outputs": [],
   "source": [
    "# Temporary placeholder for batching\n",
    "import math\n",
    "import numpy as np\n",
    "from matplotlib import pyplot\n",
    "from skimage.io import imread\n",
    "from skimage.transform import resize\n",
    "from keras.datasets import mnist\n",
    "from keras import Model\n",
    "from keras.layers import Dense, Input, Flatten\n",
    "from keras.layers import Conv2D\n",
    "from keras.layers import MaxPooling2D\n",
    "from keras.layers import Conv3D\n",
    "from keras.layers import MaxPooling3D\n",
    "import tensorflow as tf\n",
    "import GBMnet_batch # Batching class. \n",
    "from GBMnet_helpers import * # Helper functions\n",
    "\n",
    "class GBMnet_batch(tf.keras.utils.Sequence):\n",
    "    def __init__(self, x_set, y_set, ImgX, ImgY, batch_size):\n",
    "        self.x, self.y = x_set, y_set\n",
    "        self.ImgX, self.ImgY = ImgX, ImgY\n",
    "        self.batch_size = batch_size\n",
    "\n",
    "    def __len__(self):\n",
    "        return math.ceil(len(self.x) / self.batch_size)\n",
    "\n",
    "    def __getitem__(self, idx):\n",
    "        low = idx * self.batch_size\n",
    "        # Cap upper bound at array length; the last batch may be smaller\n",
    "        # if the total number of items is not a multiple of batch size.\n",
    "        high = min(low + self.batch_size, len(self.x))\n",
    "        batch_x = self.x[low:high]\n",
    "        batch_y = self.y[low:high]\n",
    "\n",
    "        return np.array([\n",
    "            resize(imread(file_name), (254, 200))\n",
    "               for file_name in batch_x]), np.array(batch_y)\n",
    "\n",
    "def one_hot(label):\n",
    "  new_label = np.zeros(10)\n",
    "  new_label[label] = 1\n",
    "  return new_label\n",
    "\n",
    "def one_hot_array(labels):\n",
    "  #Let's make an empty list to store our results.\n",
    "  new_labels = []\n",
    "  \n",
    "  #We'll use a \"for\" loop to look at each label in the list.\n",
    "  for label in labels:\n",
    "    new_labels.append(one_hot(label))\n",
    "\n",
    "  #Before we're done, we need to turn the list into a numpy array.  We almost always use numpy arrays with neural networks.\n",
    "  return np.asarray(new_labels)\n",
    "\n",
    "\n",
    "# Import\n",
    "(train_images, train_labels), (test_images, test_labels) = mnist.load_data()\n",
    "\n",
    "# Summary Information\n",
    "print(train_images.shape)\n",
    "print(test_images.shape)\n",
    "\n",
    "print(train_labels.shape)\n",
    "print(test_labels.shape)\n",
    "\n",
    "### CNN Parameters\n",
    "xImage = 254\n",
    "yImage = 254\n",
    "batchSize = 10000\n",
    "\n",
    "### Batching\n",
    "batchedData = GBMnet_batch()\n"
   ]
  },
  {
   "cell_type": "code",
   "execution_count": null,
   "metadata": {},
   "outputs": [],
   "source": []
  }
 ],
 "metadata": {
  "colab": {
   "provenance": []
  },
  "kernelspec": {
   "display_name": "Python 3 (ipykernel)",
   "language": "python",
   "name": "python3"
  },
  "language_info": {
   "codemirror_mode": {
    "name": "ipython",
    "version": 3
   },
   "file_extension": ".py",
   "mimetype": "text/x-python",
   "name": "python",
   "nbconvert_exporter": "python",
   "pygments_lexer": "ipython3",
   "version": "3.10.11"
  }
 },
 "nbformat": 4,
 "nbformat_minor": 1
}
